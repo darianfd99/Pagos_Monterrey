{
 "cells": [
  {
   "cell_type": "code",
   "execution_count": 8,
   "metadata": {},
   "outputs": [],
   "source": [
    "import matplotlib \n",
    "import matplotlib.pyplot as plt \n",
    "import pandas as pd \n",
    "matplotlib.style.use('seaborn-notebook')\n",
    "%matplotlib inline"
   ]
  },
  {
   "cell_type": "code",
   "execution_count": 9,
   "metadata": {},
   "outputs": [
    {
     "data": {
      "text/html": [
       "<div>\n",
       "<style scoped>\n",
       "    .dataframe tbody tr th:only-of-type {\n",
       "        vertical-align: middle;\n",
       "    }\n",
       "\n",
       "    .dataframe tbody tr th {\n",
       "        vertical-align: top;\n",
       "    }\n",
       "\n",
       "    .dataframe thead th {\n",
       "        text-align: right;\n",
       "    }\n",
       "</style>\n",
       "<table border=\"1\" class=\"dataframe\">\n",
       "  <thead>\n",
       "    <tr style=\"text-align: right;\">\n",
       "      <th></th>\n",
       "      <th>NUM BEN</th>\n",
       "      <th>BENEFICIARIO</th>\n",
       "      <th>RFC</th>\n",
       "      <th>FACTURA</th>\n",
       "      <th>CONTRATO</th>\n",
       "      <th>CONCEPTO</th>\n",
       "      <th>TIPO</th>\n",
       "      <th># OP</th>\n",
       "      <th>FECHA</th>\n",
       "      <th>IMPORTE</th>\n",
       "      <th>SHEET</th>\n",
       "      <th>DIA</th>\n",
       "      <th>MES</th>\n",
       "      <th>YEAR</th>\n",
       "      <th>BENEFICIARIO_SALES</th>\n",
       "      <th>IMPORTE_GASTO_PROMEDIO</th>\n",
       "      <th>HAS_LINKEDIN_SITE</th>\n",
       "    </tr>\n",
       "  </thead>\n",
       "  <tbody>\n",
       "    <tr>\n",
       "      <th>0</th>\n",
       "      <td>110152</td>\n",
       "      <td>LLANTAS Y SERVICIOS SERNA ANAHUAC,S.A. DE C.V.</td>\n",
       "      <td>LSS841015DV3</td>\n",
       "      <td>LLS AF8458-158008-3972</td>\n",
       "      <td>OT. 20204373</td>\n",
       "      <td>REEMPLAZO E INSTALACION DE AMORTIGUADORES (DEL...</td>\n",
       "      <td>TR</td>\n",
       "      <td>1019110.0</td>\n",
       "      <td>2020-12-11</td>\n",
       "      <td>14911.80</td>\n",
       "      <td>GASTOS_VARIOS</td>\n",
       "      <td>11</td>\n",
       "      <td>12</td>\n",
       "      <td>2020</td>\n",
       "      <td>13</td>\n",
       "      <td>881659.731797</td>\n",
       "      <td>True</td>\n",
       "    </tr>\n",
       "    <tr>\n",
       "      <th>1</th>\n",
       "      <td>110152</td>\n",
       "      <td>LLANTAS Y SERVICIOS SERNA ANAHUAC,S.A. DE C.V.</td>\n",
       "      <td>LSS841015DV3</td>\n",
       "      <td>LLS PF6916-158008-4041</td>\n",
       "      <td>OT. 20204425</td>\n",
       "      <td>REEMPLAZO E INSTALACION DE OCHO BIRLOS Y NUEVE...</td>\n",
       "      <td>TR</td>\n",
       "      <td>1019110.0</td>\n",
       "      <td>2020-12-11</td>\n",
       "      <td>2528.80</td>\n",
       "      <td>GASTOS_VARIOS</td>\n",
       "      <td>11</td>\n",
       "      <td>12</td>\n",
       "      <td>2020</td>\n",
       "      <td>13</td>\n",
       "      <td>881659.731797</td>\n",
       "      <td>True</td>\n",
       "    </tr>\n",
       "    <tr>\n",
       "      <th>2</th>\n",
       "      <td>110152</td>\n",
       "      <td>LLANTAS Y SERVICIOS SERNA ANAHUAC,S.A. DE C.V.</td>\n",
       "      <td>LSS841015DV3</td>\n",
       "      <td>LLS PF6917-158008-3975</td>\n",
       "      <td>OT. 20204376</td>\n",
       "      <td>REEMPLAZO DE DOS RINES  (17). PATRIMONIO 80383...</td>\n",
       "      <td>TR</td>\n",
       "      <td>1019110.0</td>\n",
       "      <td>2020-12-11</td>\n",
       "      <td>8500.02</td>\n",
       "      <td>GASTOS_VARIOS</td>\n",
       "      <td>11</td>\n",
       "      <td>12</td>\n",
       "      <td>2020</td>\n",
       "      <td>13</td>\n",
       "      <td>881659.731797</td>\n",
       "      <td>True</td>\n",
       "    </tr>\n",
       "    <tr>\n",
       "      <th>3</th>\n",
       "      <td>110152</td>\n",
       "      <td>LLANTAS Y SERVICIOS SERNA ANAHUAC,S.A. DE C.V.</td>\n",
       "      <td>LSS841015DV3</td>\n",
       "      <td>LLS PF7004-158008-3971</td>\n",
       "      <td>OT. 20204374</td>\n",
       "      <td>REEMPLAZO DE  DOS RINES  (14). PATRIMONIO 8007...</td>\n",
       "      <td>TR</td>\n",
       "      <td>1019110.0</td>\n",
       "      <td>2020-12-11</td>\n",
       "      <td>2400.01</td>\n",
       "      <td>GASTOS_VARIOS</td>\n",
       "      <td>11</td>\n",
       "      <td>12</td>\n",
       "      <td>2020</td>\n",
       "      <td>13</td>\n",
       "      <td>881659.731797</td>\n",
       "      <td>True</td>\n",
       "    </tr>\n",
       "    <tr>\n",
       "      <th>4</th>\n",
       "      <td>110152</td>\n",
       "      <td>LLANTAS Y SERVICIOS SERNA ANAHUAC,S.A. DE C.V.</td>\n",
       "      <td>LSS841015DV3</td>\n",
       "      <td>LLS PF7137-158008-4554</td>\n",
       "      <td>OT. 20205130</td>\n",
       "      <td>REEMPLAZO E INSTALACION DE RIN 14. PATRIMONIO ...</td>\n",
       "      <td>TR</td>\n",
       "      <td>299001496.0</td>\n",
       "      <td>2020-12-23</td>\n",
       "      <td>1537.00</td>\n",
       "      <td>GASTOS_VARIOS</td>\n",
       "      <td>23</td>\n",
       "      <td>12</td>\n",
       "      <td>2020</td>\n",
       "      <td>13</td>\n",
       "      <td>881659.731797</td>\n",
       "      <td>True</td>\n",
       "    </tr>\n",
       "  </tbody>\n",
       "</table>\n",
       "</div>"
      ],
      "text/plain": [
       "   NUM BEN                                    BENEFICIARIO           RFC  \\\n",
       "0   110152  LLANTAS Y SERVICIOS SERNA ANAHUAC,S.A. DE C.V.  LSS841015DV3   \n",
       "1   110152  LLANTAS Y SERVICIOS SERNA ANAHUAC,S.A. DE C.V.  LSS841015DV3   \n",
       "2   110152  LLANTAS Y SERVICIOS SERNA ANAHUAC,S.A. DE C.V.  LSS841015DV3   \n",
       "3   110152  LLANTAS Y SERVICIOS SERNA ANAHUAC,S.A. DE C.V.  LSS841015DV3   \n",
       "4   110152  LLANTAS Y SERVICIOS SERNA ANAHUAC,S.A. DE C.V.  LSS841015DV3   \n",
       "\n",
       "                  FACTURA      CONTRATO  \\\n",
       "0  LLS AF8458-158008-3972  OT. 20204373   \n",
       "1  LLS PF6916-158008-4041  OT. 20204425   \n",
       "2  LLS PF6917-158008-3975  OT. 20204376   \n",
       "3  LLS PF7004-158008-3971  OT. 20204374   \n",
       "4  LLS PF7137-158008-4554  OT. 20205130   \n",
       "\n",
       "                                            CONCEPTO TIPO         # OP  \\\n",
       "0  REEMPLAZO E INSTALACION DE AMORTIGUADORES (DEL...   TR    1019110.0   \n",
       "1  REEMPLAZO E INSTALACION DE OCHO BIRLOS Y NUEVE...   TR    1019110.0   \n",
       "2  REEMPLAZO DE DOS RINES  (17). PATRIMONIO 80383...   TR    1019110.0   \n",
       "3  REEMPLAZO DE  DOS RINES  (14). PATRIMONIO 8007...   TR    1019110.0   \n",
       "4  REEMPLAZO E INSTALACION DE RIN 14. PATRIMONIO ...   TR  299001496.0   \n",
       "\n",
       "        FECHA   IMPORTE          SHEET  DIA  MES  YEAR  BENEFICIARIO_SALES  \\\n",
       "0  2020-12-11  14911.80  GASTOS_VARIOS   11   12  2020                  13   \n",
       "1  2020-12-11   2528.80  GASTOS_VARIOS   11   12  2020                  13   \n",
       "2  2020-12-11   8500.02  GASTOS_VARIOS   11   12  2020                  13   \n",
       "3  2020-12-11   2400.01  GASTOS_VARIOS   11   12  2020                  13   \n",
       "4  2020-12-23   1537.00  GASTOS_VARIOS   23   12  2020                  13   \n",
       "\n",
       "   IMPORTE_GASTO_PROMEDIO  HAS_LINKEDIN_SITE  \n",
       "0           881659.731797               True  \n",
       "1           881659.731797               True  \n",
       "2           881659.731797               True  \n",
       "3           881659.731797               True  \n",
       "4           881659.731797               True  "
      ]
     },
     "execution_count": 9,
     "metadata": {},
     "output_type": "execute_result"
    }
   ],
   "source": [
    "df = pd.read_csv('data/compras_df_enriched.csv')\n",
    "df.head()"
   ]
  },
  {
   "cell_type": "markdown",
   "metadata": {},
   "source": [
    "## Probar un modelo supevidado"
   ]
  },
  {
   "cell_type": "code",
   "execution_count": 11,
   "metadata": {},
   "outputs": [],
   "source": [
    "data = df.copy()\n",
    "for i, column in enumerate(list([str(d) for d in data.dtypes])):\n",
    "    if column == \"object\":\n",
    "        data[data.columns[i]] = data[data.columns[i]].fillna(data[data.columns[i]].mode())\n",
    "        data[data.columns[i]] = data[data.columns[i]].astype('category').cat.codes\n",
    "    else:\n",
    "        data[data.columns[i]] = data[data.columns[i]].fillna(data[data.columns[i]].median())"
   ]
  },
  {
   "cell_type": "code",
   "execution_count": 12,
   "metadata": {},
   "outputs": [
    {
     "data": {
      "text/html": [
       "<div>\n",
       "<style scoped>\n",
       "    .dataframe tbody tr th:only-of-type {\n",
       "        vertical-align: middle;\n",
       "    }\n",
       "\n",
       "    .dataframe tbody tr th {\n",
       "        vertical-align: top;\n",
       "    }\n",
       "\n",
       "    .dataframe thead th {\n",
       "        text-align: right;\n",
       "    }\n",
       "</style>\n",
       "<table border=\"1\" class=\"dataframe\">\n",
       "  <thead>\n",
       "    <tr style=\"text-align: right;\">\n",
       "      <th></th>\n",
       "      <th>NUM BEN</th>\n",
       "      <th>BENEFICIARIO</th>\n",
       "      <th>RFC</th>\n",
       "      <th>FACTURA</th>\n",
       "      <th>CONTRATO</th>\n",
       "      <th>CONCEPTO</th>\n",
       "      <th>TIPO</th>\n",
       "      <th># OP</th>\n",
       "      <th>FECHA</th>\n",
       "      <th>IMPORTE</th>\n",
       "      <th>SHEET</th>\n",
       "      <th>DIA</th>\n",
       "      <th>MES</th>\n",
       "      <th>YEAR</th>\n",
       "      <th>BENEFICIARIO_SALES</th>\n",
       "      <th>IMPORTE_GASTO_PROMEDIO</th>\n",
       "      <th>HAS_LINKEDIN_SITE</th>\n",
       "    </tr>\n",
       "  </thead>\n",
       "  <tbody>\n",
       "    <tr>\n",
       "      <th>0</th>\n",
       "      <td>110152</td>\n",
       "      <td>161</td>\n",
       "      <td>167</td>\n",
       "      <td>1388</td>\n",
       "      <td>130</td>\n",
       "      <td>780</td>\n",
       "      <td>1</td>\n",
       "      <td>1019110.0</td>\n",
       "      <td>8</td>\n",
       "      <td>14911.80</td>\n",
       "      <td>2</td>\n",
       "      <td>11</td>\n",
       "      <td>12</td>\n",
       "      <td>2020</td>\n",
       "      <td>13</td>\n",
       "      <td>881659.731797</td>\n",
       "      <td>True</td>\n",
       "    </tr>\n",
       "    <tr>\n",
       "      <th>1</th>\n",
       "      <td>110152</td>\n",
       "      <td>161</td>\n",
       "      <td>167</td>\n",
       "      <td>1389</td>\n",
       "      <td>135</td>\n",
       "      <td>845</td>\n",
       "      <td>1</td>\n",
       "      <td>1019110.0</td>\n",
       "      <td>8</td>\n",
       "      <td>2528.80</td>\n",
       "      <td>2</td>\n",
       "      <td>11</td>\n",
       "      <td>12</td>\n",
       "      <td>2020</td>\n",
       "      <td>13</td>\n",
       "      <td>881659.731797</td>\n",
       "      <td>True</td>\n",
       "    </tr>\n",
       "    <tr>\n",
       "      <th>2</th>\n",
       "      <td>110152</td>\n",
       "      <td>161</td>\n",
       "      <td>167</td>\n",
       "      <td>1390</td>\n",
       "      <td>132</td>\n",
       "      <td>759</td>\n",
       "      <td>1</td>\n",
       "      <td>1019110.0</td>\n",
       "      <td>8</td>\n",
       "      <td>8500.02</td>\n",
       "      <td>2</td>\n",
       "      <td>11</td>\n",
       "      <td>12</td>\n",
       "      <td>2020</td>\n",
       "      <td>13</td>\n",
       "      <td>881659.731797</td>\n",
       "      <td>True</td>\n",
       "    </tr>\n",
       "    <tr>\n",
       "      <th>3</th>\n",
       "      <td>110152</td>\n",
       "      <td>161</td>\n",
       "      <td>167</td>\n",
       "      <td>1391</td>\n",
       "      <td>131</td>\n",
       "      <td>757</td>\n",
       "      <td>1</td>\n",
       "      <td>1019110.0</td>\n",
       "      <td>8</td>\n",
       "      <td>2400.01</td>\n",
       "      <td>2</td>\n",
       "      <td>11</td>\n",
       "      <td>12</td>\n",
       "      <td>2020</td>\n",
       "      <td>13</td>\n",
       "      <td>881659.731797</td>\n",
       "      <td>True</td>\n",
       "    </tr>\n",
       "    <tr>\n",
       "      <th>4</th>\n",
       "      <td>110152</td>\n",
       "      <td>161</td>\n",
       "      <td>167</td>\n",
       "      <td>1392</td>\n",
       "      <td>417</td>\n",
       "      <td>859</td>\n",
       "      <td>1</td>\n",
       "      <td>299001496.0</td>\n",
       "      <td>16</td>\n",
       "      <td>1537.00</td>\n",
       "      <td>2</td>\n",
       "      <td>23</td>\n",
       "      <td>12</td>\n",
       "      <td>2020</td>\n",
       "      <td>13</td>\n",
       "      <td>881659.731797</td>\n",
       "      <td>True</td>\n",
       "    </tr>\n",
       "  </tbody>\n",
       "</table>\n",
       "</div>"
      ],
      "text/plain": [
       "   NUM BEN  BENEFICIARIO  RFC  FACTURA  CONTRATO  CONCEPTO  TIPO         # OP  \\\n",
       "0   110152           161  167     1388       130       780     1    1019110.0   \n",
       "1   110152           161  167     1389       135       845     1    1019110.0   \n",
       "2   110152           161  167     1390       132       759     1    1019110.0   \n",
       "3   110152           161  167     1391       131       757     1    1019110.0   \n",
       "4   110152           161  167     1392       417       859     1  299001496.0   \n",
       "\n",
       "   FECHA   IMPORTE  SHEET  DIA  MES  YEAR  BENEFICIARIO_SALES  \\\n",
       "0      8  14911.80      2   11   12  2020                  13   \n",
       "1      8   2528.80      2   11   12  2020                  13   \n",
       "2      8   8500.02      2   11   12  2020                  13   \n",
       "3      8   2400.01      2   11   12  2020                  13   \n",
       "4     16   1537.00      2   23   12  2020                  13   \n",
       "\n",
       "   IMPORTE_GASTO_PROMEDIO  HAS_LINKEDIN_SITE  \n",
       "0           881659.731797               True  \n",
       "1           881659.731797               True  \n",
       "2           881659.731797               True  \n",
       "3           881659.731797               True  \n",
       "4           881659.731797               True  "
      ]
     },
     "execution_count": 12,
     "metadata": {},
     "output_type": "execute_result"
    }
   ],
   "source": [
    "data.head()"
   ]
  },
  {
   "cell_type": "code",
   "execution_count": 13,
   "metadata": {},
   "outputs": [],
   "source": [
    "from sklearn.ensemble import RandomForestRegressor \n",
    "from sklearn.model_selection import train_test_split"
   ]
  },
  {
   "cell_type": "code",
   "execution_count": 14,
   "metadata": {},
   "outputs": [],
   "source": [
    "y = data.pop(\"IMPORTE\")\n",
    "X = data.copy()"
   ]
  },
  {
   "cell_type": "code",
   "execution_count": 15,
   "metadata": {},
   "outputs": [],
   "source": [
    "X_train, X_test, y_train, y_test = train_test_split(X, y, test_size = 0.33, random_state = 42)"
   ]
  },
  {
   "cell_type": "code",
   "execution_count": 16,
   "metadata": {},
   "outputs": [
    {
     "data": {
      "text/plain": [
       "RandomForestRegressor(bootstrap=True, ccp_alpha=0.0, criterion='mse',\n",
       "                      max_depth=4, max_features='auto', max_leaf_nodes=None,\n",
       "                      max_samples=None, min_impurity_decrease=0.0,\n",
       "                      min_impurity_split=None, min_samples_leaf=1,\n",
       "                      min_samples_split=2, min_weight_fraction_leaf=0.0,\n",
       "                      n_estimators=1000, n_jobs=None, oob_score=False,\n",
       "                      random_state=None, verbose=0, warm_start=False)"
      ]
     },
     "execution_count": 16,
     "metadata": {},
     "output_type": "execute_result"
    }
   ],
   "source": [
    "clf = RandomForestRegressor(n_estimators=1000, max_depth = 4)\n",
    "clf.fit(X_train, y_train)"
   ]
  },
  {
   "cell_type": "code",
   "execution_count": 17,
   "metadata": {},
   "outputs": [],
   "source": [
    "from sklearn.metrics import r2_score"
   ]
  },
  {
   "cell_type": "code",
   "execution_count": 18,
   "metadata": {},
   "outputs": [
    {
     "data": {
      "text/plain": [
       "0.18676144800246264"
      ]
     },
     "execution_count": 18,
     "metadata": {},
     "output_type": "execute_result"
    }
   ],
   "source": [
    "r2_score(y_test, clf.predict(X_test))"
   ]
  },
  {
   "cell_type": "markdown",
   "metadata": {},
   "source": [
    "## Probar un modelo no supervisado o de clustering para texto"
   ]
  },
  {
   "cell_type": "code",
   "execution_count": 19,
   "metadata": {},
   "outputs": [],
   "source": [
    "import gensim \n",
    "from nltk.corpus import stopwords \n",
    "import numpy as np \n",
    "np.random.seed(2021)"
   ]
  },
  {
   "cell_type": "code",
   "execution_count": 20,
   "metadata": {},
   "outputs": [],
   "source": [
    "def preprocess(text):\n",
    "    result = []\n",
    "    for token in text.split():\n",
    "        if token not in stopwords.words(\"spanish\") and len(token)>4:\n",
    "            result.append(token)\n",
    "    \n",
    "    return result\n",
    "            "
   ]
  },
  {
   "cell_type": "code",
   "execution_count": 21,
   "metadata": {},
   "outputs": [],
   "source": [
    "process_business = [preprocess(x) for x in list(df[\"BENEFICIARIO\"].unique())]"
   ]
  },
  {
   "cell_type": "code",
   "execution_count": 22,
   "metadata": {},
   "outputs": [
    {
     "data": {
      "text/plain": [
       "[['LLANTAS', 'SERVICIOS', 'SERNA', 'ANAHUAC,S.A.'],\n",
       " ['MAQUINARIA', 'EQUIPO,', 'S.A.DE'],\n",
       " ['PLOMIFERRETERA', 'TORNILLO,'],\n",
       " ['EQUIPOS', 'ACCESORIOS', 'CANTU,'],\n",
       " ['PRAXAIR', 'MEXICO'],\n",
       " ['COMERCIALIZADORA', 'HNOS.ALVAREZ', 'FLORES,S.A.DE'],\n",
       " ['DISTRIBUIDORA', 'FRUTAS', 'LEGUMBRES', 'HORTALIZA,S.A.DE'],\n",
       " ['NUÑEZ', 'LOPEZ', 'VIRGINIA'],\n",
       " ['S.I.M.E.P.R.O.D.E.'],\n",
       " ['TRACTORES', 'MAQUINARIA', 'REAL,'],\n",
       " ['TELEFONOS', 'MEXICO,S.A.B'],\n",
       " ['MERCANTIL', 'DISTRIBUIDORA,'],\n",
       " ['GRANA,S.A.'],\n",
       " ['INTERNACIONAL', 'MONTERREY,A.C.'],\n",
       " ['EMPACADORA', 'DISTR.DE', 'CARNES', 'FINAS', 'JUAN,S.A.DE'],\n",
       " ['VIVERO', 'ESCORIAL,'],\n",
       " ['AMERICANA,S.A.DE'],\n",
       " ['MANTENIMIENTO', 'ELECTRICO', 'POTENCIA,S.A.DE'],\n",
       " ['AUTOKAM', 'REGIOMONTANA,S.A.DE'],\n",
       " ['CLIMEEZ', 'NORTE,S.A.DE'],\n",
       " ['VALUE', 'ARRENDADORA,S.A.DE', 'SOFOM', 'VALUE', 'GPO.FIN.'],\n",
       " ['SEGUROS', 'AFIRME,', 'AFIRME', 'GRUPO', 'FINANCIERO'],\n",
       " ['DESARROLLOS', 'CONSTRUCTIVOS', 'NACIONALES,S.A.DE'],\n",
       " ['BIOANALISIS', 'SERVICIOS', 'HEMATOLOGICOS'],\n",
       " ['SUAREZ', 'MOBILIARIO', 'INTERNACIONAL,S.A.DE'],\n",
       " ['FORTE', 'COMUNICACIONES,S.A.DE'],\n",
       " ['NAUDIN', 'WILLIAMS', 'JORGE', 'TOMAS'],\n",
       " ['BIENES'],\n",
       " ['MONTERREY,'],\n",
       " ['DESARROLLOS', 'HUINALA,'],\n",
       " ['SALAZAR', 'GARZA', 'ADRIANA'],\n",
       " ['TECHNOLOGY,'],\n",
       " ['COLLENZI', 'COLONNELLO', 'CLARISSA'],\n",
       " ['SUPERMERCADOS', 'INTERNACIONALES'],\n",
       " ['SEGUROS', 'BANORTE,', 'GRUPO', 'FINANCIERO', 'BANORTE'],\n",
       " ['GRUPO', 'AUTOMOTRIZ,'],\n",
       " ['SAMPOGNA', 'GARZA', 'JESUS', 'IGNACIO'],\n",
       " ['MEXICO,'],\n",
       " ['INTERLAMPARAS,'],\n",
       " ['CONSTRUCTORA'],\n",
       " ['MALDONADO', 'GONZALEZ', 'ARTURO', 'GUILLERMO'],\n",
       " ['MAYOREO', 'MONTERREY,'],\n",
       " ['DESARROLLOS', 'INMOBILIARIOS', 'JAJEMI,'],\n",
       " ['GRANTE', 'INMOBILIARIA,'],\n",
       " ['LARRALDE', 'LAGUERA', 'MARGARITA'],\n",
       " ['PINEDA', 'GUERRERO', 'OSCAR'],\n",
       " ['INTERASFALTOS,'],\n",
       " ['COMERCIALIZADORA', 'IMPORTADORA,'],\n",
       " ['ANGIO', 'MEDICAL,'],\n",
       " ['GRUPO', 'CREA,'],\n",
       " ['INTEGRACION', 'SISTEMAS', 'AVANZADA', 'TECNOLOGIA,'],\n",
       " ['INDUSTRIAL,'],\n",
       " ['GRUPO', 'COYOTE', 'MONTERREY,'],\n",
       " ['INDUSTRIAS', 'BASIC,'],\n",
       " ['EDIFICIOS', 'DIANA', 'NORTE,'],\n",
       " ['LOGOMUNDO,'],\n",
       " ['PEREZ', 'RAMIRO'],\n",
       " ['CANTU', 'LOGISTICS,'],\n",
       " ['ESPECIALIDADES', 'MEDICAS', 'INTERNACIONALES', 'EQUIPO', 'MEDICO'],\n",
       " ['CANTU', 'ELIZONDO', 'DANIELA'],\n",
       " ['BENITES', 'VALDES', 'LUCIO'],\n",
       " ['HOSP.UNIVERSITARIO', 'DR.JOSE', 'E.GONZALEZ'],\n",
       " ['BANCO', 'MULTIVA,', 'G.F.M.'],\n",
       " ['ASOCIACION', 'COLONOS', 'CONTRY', 'SILLA'],\n",
       " ['BANCO', 'BANCREA,S.A.', ',FIDEICOMISO', 'NUMERO', 'BP417'],\n",
       " ['FIDEICOMISO', 'DISTRITO', 'NUM-1718'],\n",
       " ['CIUDADANOS', 'APOYO', 'DERECHOS', 'HUMANOS,'],\n",
       " ['LOZANO', 'MARIA', 'AMALIA'],\n",
       " ['S.U.T.S.M.M.'],\n",
       " ['CENTRO', 'INTERNACIONAL', 'NEGOCIOS', 'MONTERREY,'],\n",
       " ['BANCO', 'MERCANTIL', 'NORTE'],\n",
       " ['MUNICIPIO', 'CIUDAD', 'MONTERREY'],\n",
       " ['MUSEO', 'CONTEMPORANEO', 'MONTERREY,'],\n",
       " ['SUMINISTRADOR', 'SERVICIOS', 'BASICOS'],\n",
       " ['NATURGY', 'MEXICO,'],\n",
       " ['SERVICIOS', 'DRENAJE', 'MONTERREY,'],\n",
       " ['ACEROS', 'OVEROLLINGS', 'MEXICO,'],\n",
       " ['CENTRO', 'CAMIONERO,'],\n",
       " ['BENAVIDES', 'GONZALEZ', 'LAURA', 'ELENA'],\n",
       " ['CENICEROS', 'GARCIA', 'MARIA', 'MAGDALENA'],\n",
       " ['CERVEZAS', 'CUAUHTEMOC', 'MOCTEZUMA,'],\n",
       " ['CINEPOLIS', 'MEXICO,S.A.'],\n",
       " ['ECOTAXI', 'MONTERREY,'],\n",
       " ['GARZA', 'TREVIÑO', 'MARIA'],\n",
       " ['GOMEZ', 'MEJIA', 'MARIA'],\n",
       " ['GONZALEZ', 'VAZQUEZ', 'EDGAR', 'CECILIO'],\n",
       " ['IIRSACERO,'],\n",
       " ['CERVEZAS', 'MODELO', 'NUEVO', 'LEON,'],\n",
       " ['MARCATEL'],\n",
       " ['SANCHEZ', 'MARCELO'],\n",
       " ['YRIGOYEN', 'MARIA', 'LOURDES'],\n",
       " ['PATENA', 'PUENTE', 'LORENA', 'MIREYA'],\n",
       " ['PEREZ', 'FLORES', 'MARIA', 'ROSARIO'],\n",
       " ['PEREZ', 'IBARRA', 'ROLANDO', 'MISAEL'],\n",
       " ['RESTAURANTES', 'TOKS.'],\n",
       " ['RODRIGUEZ', 'AGUIRRE', 'LIBRADO'],\n",
       " ['RODRIGUEZ', 'GOMEZ', 'PAMELA'],\n",
       " ['SALAS', 'HERNANDEZ', 'ROBERTO', 'KEVIN'],\n",
       " ['TRANSPORTES', 'PROGRESO,'],\n",
       " ['TREVIÑO', 'ELIZONDO', 'HUMBERTO'],\n",
       " ['TREVIÑO', 'YAÑEZ', 'HUMBERTO'],\n",
       " ['VAZQUEZ', 'FLORES', 'ELVIRA'],\n",
       " ['GONZALEZ', 'OCTAVIO'],\n",
       " ['VERGARA', 'CASTELLANOS', 'BALDEMAR', 'ALEJANDRO'],\n",
       " ['VILLARREAL', 'BERTHA'],\n",
       " ['ALIANZA', 'AUTOMOTRIZ', 'RIVERO,'],\n",
       " ['ZAPATA', 'NATALIA'],\n",
       " ['CHUBB', 'SEGUROS', 'MEXICO,'],\n",
       " ['CORPUS', 'MORALES', 'CLAUDIA'],\n",
       " ['SEGUROS,'],\n",
       " ['DOMENE', 'ZAMBRANO', 'MARIA', 'ROCIO'],\n",
       " ['EMERGENCIA', 'MEDICA', 'PROFESIONAL,'],\n",
       " ['ESTRADA', 'CASTILLO', 'HILDA', 'LETICIA'],\n",
       " ['GARCIA', 'REYES', 'MARIA'],\n",
       " ['GONZALEZ', 'CORREA', 'DOLORES', 'CARMEN'],\n",
       " ['GONZALEZ', 'SANCHEZ', 'MARIA'],\n",
       " ['IMPULSORA', 'PROMOBIEN,'],\n",
       " ['INFONACOT'],\n",
       " ['INSTITUTO', 'CONTROL', 'VEHICULAR'],\n",
       " ['LOMAS', 'LOZANO', 'CLAUDIA', 'PATRICIA'],\n",
       " ['MADERA', 'HOLTEN', 'MARIA', 'TERESA'],\n",
       " ['METLIFE', 'MEXICO,'],\n",
       " ['MORENO', 'MARTINEZ', 'SONIA'],\n",
       " ['OLDER', 'GARCIA', 'CARLOS', 'ALBERTO'],\n",
       " ['PADILLA', 'QUINTANILLA'],\n",
       " ['PATRIMONIO', 'SOFOM'],\n",
       " ['RODRIGUEZ', 'ONTIVEROS', 'GLORIA', 'ISABEL'],\n",
       " ['SECRETARIA', 'FINANZAS', 'TESORERIA'],\n",
       " ['SEGUROS', 'ARGOS,'],\n",
       " ['SEGUROS', 'GRUPO', 'FINANCIERO'],\n",
       " ['TORRES', 'RANGEL', 'MARIA'],\n",
       " ['UNIVERSAL', 'SERVICIOS', 'PATRIMONIALES,', 'SOFOM'],\n",
       " ['CASTRUITA', 'CARMEN'],\n",
       " ['CORONEL', 'GONZALEZ', 'MARIA', 'LUISA'],\n",
       " ['FLORES', 'ROBLEDO', 'GUADALUPE', 'CONCEPCION'],\n",
       " ['SEGURA', 'SINDY', 'MELIZA'],\n",
       " ['RAMIREZ', 'CUELLAR', 'JONATHAN', 'JOSHUA'],\n",
       " ['GOMEZ', 'YENNIFER', 'ITZEL'],\n",
       " ['PENSIONES', 'JUBILACIONES', 'EMPL.', 'MONTERREY'],\n",
       " ['HERNANDEZ', 'JIMENEZ', 'EDUARDO'],\n",
       " ['GONZALEZ', 'CANTU', 'ALEXANDRO'],\n",
       " ['HERRERA', 'GARCIA', 'ADRIANA', 'HORTENCIA'],\n",
       " ['GARCIA', 'NACIANCENO', 'FELIX', 'MANUEL'],\n",
       " ['TIJERINA', 'GOMEZ', 'LUCAS', 'OCTAVIO'],\n",
       " ['GARCIA', 'ORTIZ', 'ALICIA'],\n",
       " ['SALAZAR', 'ADRIANA'],\n",
       " ['TELLEZ', 'ZOLEZZI', 'CARLOS', 'ALBERTO'],\n",
       " ['RAMIREZ', 'ORTIZ', 'RAQUEL', 'ADELA'],\n",
       " ['ESPINOSA', 'RODRIGUEZ', 'MARIA'],\n",
       " ['CERECERO', 'MEDINA', 'ZULLY', 'JANETT'],\n",
       " ['VARGAS', 'ANTILLON', 'MARCOS'],\n",
       " ['GONZALEZ', 'SALINAS', 'GERARDO'],\n",
       " ['GARCIA', 'ALEJANDRO', 'ANALY'],\n",
       " ['VALLEJO', 'RAMOS', 'MANUEL'],\n",
       " ['CENTER,'],\n",
       " ['LINARES', 'TORRES', 'FERNANDO', 'MANUEL'],\n",
       " ['SERVICIO', 'TECNICO', 'CHURUBUSCO,'],\n",
       " ['INMOBILIARIA'],\n",
       " ['FORTERRA,'],\n",
       " ['CONSTRUCCIONES', 'URBANIZACIONES', 'VILLA,'],\n",
       " ['CONSTRUCTORA', 'ARRENDADORA', 'SEBASTIAN,'],\n",
       " ['INVESTMENT', 'CAPITAL', 'PARTNERS,'],\n",
       " ['GARCIA', 'ZAVALA', 'EDGAR', 'ALEJANDRO', 'JOBERAGAN'],\n",
       " ['GARIBALDI', 'FRECH', 'MARCELO', 'ANDRES'],\n",
       " ['TREVIÑO', 'CORREA', 'VALENTIN', 'MARCELO'],\n",
       " ['SERVICIOS', 'BROXEL,', 'S.A.P.I.'],\n",
       " ['CORDERO', 'MACIAS', 'SILVESTRE', 'GUADALUPE'],\n",
       " ['OPERBES,'],\n",
       " ['INFRAESTRUCTURA'],\n",
       " ['MANUFACTURAS', 'RECOVERY,'],\n",
       " ['PROYECTOS,'],\n",
       " ['MOTOR', 'DEAL,'],\n",
       " ['BOMBEROS', 'NUEVO', 'LEON,', 'A.B.P.'],\n",
       " ['RECYMET', 'SERVICIOS', 'MEXICO,'],\n",
       " ['PRODUCTORA', 'PROCESADORA', 'AGRICOLA', 'MEXICO'],\n",
       " ['CONSTRUCTORA', 'XILOFACTOS,'],\n",
       " ['GARZA', 'SADA,'],\n",
       " ['GASOLINERA', 'NUEVO', 'LEON,'],\n",
       " ['PINEDA', 'OSORIO', 'NAZARIO'],\n",
       " ['HUINALA,'],\n",
       " ['SERVICIO', 'LINCOLN,'],\n",
       " [],\n",
       " ['GONZALEZ', 'GARZA'],\n",
       " ['BUFETE', 'URBANISTICO,'],\n",
       " ['TOOLS', 'SERVICES', 'MEXICO,'],\n",
       " ['SOLUCIONES', 'OPCIONES', 'SEGURIDAD', 'PRIVADA,S.A.DE'],\n",
       " ['EOLICA', 'SANTA', 'CATARINA,'],\n",
       " ['URBANIZACIONES'],\n",
       " ['RECOLECTOR,'],\n",
       " ['SMART', 'NETWORKS,'],\n",
       " ['RAMIREZ', 'VERASTEGUI', 'ISIDRO', 'RAMON'],\n",
       " ['CHAPA'],\n",
       " ['INFRAESTRUCTURA', 'URBANA,'],\n",
       " ['GUERRERO', 'SEGURA', 'NESTOR'],\n",
       " ['PAVIMENTOS', 'CONSTRUCCIONES', 'GARCAN,'],\n",
       " ['GUAJARDO', 'ASOCS.CONSTRUCTORA,'],\n",
       " ['CONSTRUCCIONES,'],\n",
       " ['CONSTRUCCIONES', 'DYNAMO,'],\n",
       " ['CONSTRUCTORA', 'JOMABE,'],\n",
       " ['CONSTRUCCIONES', 'URBANIZACIONES', 'PONIENTE,'],\n",
       " ['INFRAESTRUCTURA', 'CONSTRUCCIONES', 'GARCIA,'],\n",
       " ['CONSTRUCTORA', 'POLITEZZA,'],\n",
       " ['URBANISMOS', 'ROSALES,'],\n",
       " ['ARQUITECTURA', 'INGENIERIA', '2000,'],\n",
       " ['OBRAS,'],\n",
       " ['ORTIZ', 'MONTOYA'],\n",
       " ['PROVEEDORA', 'CONSTRUCCION', 'REGIOMONTANA,'],\n",
       " ['BUILDTECH', 'PAVIMENTOS', 'ESTAMPADOS', 'CONSTRUCCIONES,'],\n",
       " ['DESARROLLO', 'CONSTRUCTIVO', 'URBANISTICO,'],\n",
       " ['CONSORCIO', 'CONSTRUCTIVO', 'PROYECTOS,'],\n",
       " ['CONSTRUCTORES,'],\n",
       " ['PROYECTOS', 'DESARROLLOS', 'SALVE,'],\n",
       " ['CEREZO', 'TORRES'],\n",
       " ['CONSTRUCCIONES', 'PAVIMENTO', 'EDIFICACIONES', 'COPESA,'],\n",
       " ['CONSTRUCCIONES', 'MANTENIMIENTO', 'GAME,'],\n",
       " ['CONSTRUCTORA', 'ARRENDADORA', 'SEBASTIAN,'],\n",
       " ['HUAJUCO', 'CONSTRUCCIONES,'],\n",
       " ['CONSTRUCCION', 'DIRECCION'],\n",
       " ['CONSTRUCTORA', 'LAZO,'],\n",
       " ['DESARROLLOS', 'MAFERSA,'],\n",
       " ['INFRAESTRUCTURA,'],\n",
       " ['EDIFICACIONES,'],\n",
       " ['REGIO', 'ASFALTOS', 'CONCRETOS,'],\n",
       " ['CONSTRUCTORA', 'COMERCIALIZADORA', 'IMPERIAL,'],\n",
       " ['SERVICIOS'],\n",
       " ['INSTITUTO', 'MUNICIPAL', 'MUJERES', 'REGIAS'],\n",
       " ['SOLUCION', 'CONSTRUCCION,'],\n",
       " ['INSTITUTO', 'INV.INNOV.Y', 'EST.DE', 'POSG.P/LA', 'EDU.DEL'],\n",
       " ['UNIVERSIDAD', 'AUTONOMA', 'NUEVO'],\n",
       " ['CONTRERAS', 'MONSIVAIS', 'DANIEL'],\n",
       " ['CAMARA', 'MEXICANA', 'INDUSTRIA', 'CONSTRUCCION'],\n",
       " ['F/4086906', 'BANCOMER,'],\n",
       " ['SERVICES,'],\n",
       " ['RAMIREZ', 'ALEJANDRO'],\n",
       " ['INMOBILIARIA', 'ESTRUCTURAL,'],\n",
       " ['UNION', 'DESARROLLO', 'CORAZONES', 'MEXICANOS,'],\n",
       " ['EDIFICACIONES', 'TERRACERIAS', 'NORTE,'],\n",
       " ['ADQUISICIONES', 'INTELIGENTES,'],\n",
       " ['CENTRO', 'ATENCION,', 'PREVENCION', 'SEGURIDAD', 'SOCIAL,'],\n",
       " ['GOBIERNO', 'ESTADO', 'DURANGO'],\n",
       " ['DESARROLLO', 'CONSTRUCCIONES', 'URBANAS,'],\n",
       " ['SIERRA', 'MADRE', 'RACING,'],\n",
       " ['MANTENIMIENTO,'],\n",
       " ['CONSTRUCTORA', 'MIER,S.A.'],\n",
       " ['ARMOR'],\n",
       " ['INSTITUTO', 'ESTATAL', 'CIENCIAS', 'PENALES', 'SEGURIDAD', 'PUBLICA'],\n",
       " ['UNIVERSIDAD', 'REGIOMONTANA,'],\n",
       " ['ZAPATA', 'CHAVIRA', 'HOMERO', 'ARTURO'],\n",
       " ['ORTEGA', 'VAZQUEZ', 'ANDRES', 'JAIME'],\n",
       " ['INTEGRACION', 'TECNOLOGICA', 'FISCAL,'],\n",
       " ['MANAGEMENT', 'TECHNOLOGY', 'INNOVATIONS,'],\n",
       " ['SOLUTIONS,'],\n",
       " ['VELEZ', 'VALDES', 'ALBERTO'],\n",
       " ['NUCLEO', 'RADIO', 'MONTERREY,S.A.DE'],\n",
       " ['SISTEMEDIOS,'],\n",
       " ['PRESS', 'NEWS,S.A.DE'],\n",
       " ['MOCHIS,S.A.DE'],\n",
       " ['SCRIPTAMTY,'],\n",
       " ['LOZANO', 'CAVAZOS', 'REYNALDO', 'RAMON'],\n",
       " ['STEREOREY', 'MEXICO,'],\n",
       " ['VERBO', 'LIBRE', 'EDITORES,'],\n",
       " ['MULTIMEDIOS,'],\n",
       " ['MARQUEZ', 'GOMEZ'],\n",
       " ['MILENIO', 'DIARIO,'],\n",
       " ['MELCHOR', 'GUERRERO', 'PERLA', 'GUADALUPE'],\n",
       " ['OVIEDO', 'RODRIGUEZ', 'MARILU'],\n",
       " [],\n",
       " ['2018,'],\n",
       " ['MAGENTA', 'MULTIMEDIA,', 'S.A.P.I.'],\n",
       " ['MEDIA'],\n",
       " ['MAYORGA', 'CONSULTORES,'],\n",
       " ['PUBLIGAB', 'COMUNICACIONES,'],\n",
       " ['ARRIAGA', 'PEREZ', 'ROCIO', 'JAZMIN'],\n",
       " ['AYALA', 'SALAZAR', 'GABRIEL'],\n",
       " ['BRANDI', 'ELGUEZABAL', 'MARCELO'],\n",
       " ['BRAVO', 'GARZA', 'CARLOS', 'ALBERTO'],\n",
       " ['BRAVO', 'MENDOZA'],\n",
       " ['CELEDONIO', 'BECERRA', 'MIGUEL'],\n",
       " ['CORTES', 'SANCHEZ', 'VICTOR', 'MANUEL'],\n",
       " ['GALVAN', 'GUERRERO', 'ANDRES'],\n",
       " ['GAMEZ', 'RODRIGUEZ', 'PABLO'],\n",
       " ['GARCIA', 'GONZALEZ', 'ARTURO'],\n",
       " ['GONZALEZ', 'AGUILERA', 'CRISTINA', 'MIROSLAVA'],\n",
       " ['GUERRERO', 'MARTINEZ', 'EDGAR', 'FEDERICO'],\n",
       " ['HERNANDEZ', 'BRENDA', 'NATALIA'],\n",
       " ['ORDAZ', 'ARANJO', 'ANTONIO'],\n",
       " ['RAMOS', 'GARZA', 'RAFAEL', 'EDUARDO'],\n",
       " ['RAMOS', 'MARROQUIN', 'FRANCISCO', 'JAVIER'],\n",
       " ['RODRIGUEZ', 'JUAREZ', 'DANIELA', 'BERENICE'],\n",
       " ['RODRIGUEZ', 'MORALES', 'CYNTHIA', 'ESTHER'],\n",
       " ['SANCHEZ', 'DAVILA', 'GERARDO'],\n",
       " ['TORRES', 'ACOSTA', 'ROBERTO', 'CARLOS'],\n",
       " ['VARGAS', 'GARCIA', 'ALHINNA', 'BERENICE'],\n",
       " ['VILLARREAL', 'CARDENAS', 'IGNACIO'],\n",
       " ['VILLARREAL', 'CARDENAS', 'NANCY', 'ESTHER'],\n",
       " ['GODOY', 'SANCHEZ', 'RICARDO'],\n",
       " ['MIJANGOS', 'JESUS', 'FERNANDO'],\n",
       " ['MORENO', 'GARCIA', 'ARTURO'],\n",
       " ['SANCHEZ', 'HERNANDEZ', 'SEBASTIAN'],\n",
       " ['SEGOVIA', 'MARCELO'],\n",
       " ['TOVAR', 'CEDILLO', 'JAVIER', 'ALFONSO']]"
      ]
     },
     "execution_count": 22,
     "metadata": {},
     "output_type": "execute_result"
    }
   ],
   "source": [
    "process_business"
   ]
  },
  {
   "cell_type": "code",
   "execution_count": 23,
   "metadata": {},
   "outputs": [
    {
     "data": {
      "text/plain": [
       "<gensim.corpora.dictionary.Dictionary at 0x7f15146cd2d0>"
      ]
     },
     "execution_count": 23,
     "metadata": {},
     "output_type": "execute_result"
    }
   ],
   "source": [
    "dictionary = gensim.corpora.Dictionary(process_business)\n",
    "dictionary"
   ]
  },
  {
   "cell_type": "code",
   "execution_count": 24,
   "metadata": {},
   "outputs": [],
   "source": [
    "dictionary.filter_extremes(no_below = 1, no_above = 0.5)"
   ]
  },
  {
   "cell_type": "code",
   "execution_count": 25,
   "metadata": {},
   "outputs": [],
   "source": [
    "bow_corpus = [dictionary.doc2bow(doc) for doc in process_business]"
   ]
  },
  {
   "cell_type": "code",
   "execution_count": 26,
   "metadata": {},
   "outputs": [],
   "source": [
    "lda_model = gensim.models.LdaMulticore(bow_corpus, num_topics=6, id2word=dictionary, passes = 10, workers = 2)"
   ]
  },
  {
   "cell_type": "code",
   "execution_count": 27,
   "metadata": {},
   "outputs": [
    {
     "name": "stdout",
     "output_type": "stream",
     "text": [
      "Topic: 0 Words:0.010*\"DESARROLLOS\" + 0.010*\"GARZA\" + 0.010*\"GUERRERO\" + 0.010*\"INSTITUTO\" + 0.010*\"SALAZAR\" + 0.010*\"ADRIANA\" + 0.010*\"BANCO\" + 0.010*\"URBANIZACIONES\" + 0.010*\"IGNACIO\" + 0.010*\"JESUS\"\n",
      "Topic: 1 Words:0.033*\"GARCIA\" + 0.021*\"GONZALEZ\" + 0.021*\"GARZA\" + 0.018*\"MARIA\" + 0.013*\"TREVIÑO\" + 0.013*\"SANCHEZ\" + 0.013*\"MARCELO\" + 0.013*\"ARTURO\" + 0.013*\"MANUEL\" + 0.009*\"ALBERTO\"\n",
      "Topic: 2 Words:0.015*\"GRUPO\" + 0.010*\"SERVICIOS\" + 0.010*\"ESTHER\" + 0.010*\"MARTINEZ\" + 0.010*\"MONTERREY\" + 0.010*\"CONSTRUCTORA\" + 0.010*\"MORENO\" + 0.005*\"ALEJANDRO\" + 0.005*\"VILLARREAL\" + 0.005*\"HERNANDEZ\"\n",
      "Topic: 3 Words:0.026*\"MARIA\" + 0.023*\"RODRIGUEZ\" + 0.019*\"GONZALEZ\" + 0.018*\"GOMEZ\" + 0.012*\"LOZANO\" + 0.008*\"TORRES\" + 0.008*\"DESARROLLO\" + 0.008*\"PEREZ\" + 0.008*\"SEGURIDAD\" + 0.008*\"SANCHEZ\"\n",
      "Topic: 4 Words:0.031*\"CONSTRUCTORA\" + 0.018*\"CONSTRUCCIONES\" + 0.018*\"MEXICO,\" + 0.010*\"NUEVO\" + 0.010*\"RAMIREZ\" + 0.010*\"SEGUROS\" + 0.010*\"INTEGRACION\" + 0.010*\"SEBASTIAN,\" + 0.010*\"ARRENDADORA\" + 0.010*\"GRUPO\"\n",
      "Topic: 5 Words:0.018*\"MONTERREY,\" + 0.014*\"SERVICIOS\" + 0.014*\"CONSTRUCCION\" + 0.010*\"MEXICO,\" + 0.010*\"INFRAESTRUCTURA\" + 0.010*\"CANTU\" + 0.010*\"FLORES\" + 0.010*\"VAZQUEZ\" + 0.010*\"MARCELO\" + 0.010*\"GONZALEZ\"\n"
     ]
    }
   ],
   "source": [
    "for idx, type_business in  lda_model.print_topics(-1):\n",
    "    print(f\"Topic: {idx} Words:{type_business}\")"
   ]
  },
  {
   "cell_type": "code",
   "execution_count": 28,
   "metadata": {},
   "outputs": [],
   "source": [
    "def get_max_topic(index):\n",
    "    results = lda_model[bow_corpus[index]]\n",
    "    return max(lda_model[results], key = lambda x : x[1])[0]"
   ]
  },
  {
   "cell_type": "code",
   "execution_count": 29,
   "metadata": {},
   "outputs": [],
   "source": [
    "business_cluster = {x : get_max_topic(i) for i, x in enumerate(list(df['BENEFICIARIO'].unique()))}"
   ]
  },
  {
   "cell_type": "code",
   "execution_count": 30,
   "metadata": {},
   "outputs": [],
   "source": [
    "df['CLUSTER_NAME'] = df['BENEFICIARIO'].apply(lambda x : business_cluster[x])"
   ]
  },
  {
   "cell_type": "code",
   "execution_count": 31,
   "metadata": {},
   "outputs": [
    {
     "data": {
      "text/plain": [
       "2    858\n",
       "0    416\n",
       "5    266\n",
       "Name: CLUSTER_NAME, dtype: int64"
      ]
     },
     "execution_count": 31,
     "metadata": {},
     "output_type": "execute_result"
    }
   ],
   "source": [
    "df[\"CLUSTER_NAME\"].value_counts()"
   ]
  },
  {
   "cell_type": "code",
   "execution_count": 32,
   "metadata": {},
   "outputs": [
    {
     "data": {
      "text/plain": [
       "<matplotlib.axes._subplots.AxesSubplot at 0x7f151263fc50>"
      ]
     },
     "execution_count": 32,
     "metadata": {},
     "output_type": "execute_result"
    },
    {
     "data": {
      "image/png": "[encoded data removed]",
      "text/plain": [
       "<Figure size 432x288 with 1 Axes>"
      ]
     },
     "metadata": {
      "needs_background": "light"
     },
     "output_type": "display_data"
    }
   ],
   "source": [
    "df.groupby(\"CLUSTER_NAME\")[\"IMPORTE\"].mean().plot.bar()"
   ]
  },
  {
   "cell_type": "markdown",
   "metadata": {},
   "source": [
    "## Probar un modelo no supervisado de anamolías en cuanto a importes"
   ]
  },
  {
   "cell_type": "code",
   "execution_count": 33,
   "metadata": {},
   "outputs": [],
   "source": [
    "import numpy as np \n",
    "from scipy.stats import norm \n"
   ]
  },
  {
   "cell_type": "code",
   "execution_count": 35,
   "metadata": {},
   "outputs": [
    {
     "data": {
      "text/plain": [
       "(626317.9473441559, 4665396.47441213)"
      ]
     },
     "execution_count": 35,
     "metadata": {},
     "output_type": "execute_result"
    }
   ],
   "source": [
    "params = norm.fit(df[\"IMPORTE\"])\n",
    "params"
   ]
  },
  {
   "cell_type": "code",
   "execution_count": 36,
   "metadata": {},
   "outputs": [],
   "source": [
    "df[\"PROB_TOTAL\"] = [norm(params[0], params[1]).cdf(x) for x in df['IMPORTE']]"
   ]
  },
  {
   "cell_type": "code",
   "execution_count": 38,
   "metadata": {},
   "outputs": [
    {
     "data": {
      "text/plain": [
       "<matplotlib.axes._subplots.AxesSubplot at 0x7f1502fd4690>"
      ]
     },
     "execution_count": 38,
     "metadata": {},
     "output_type": "execute_result"
    },
    {
     "data": {
      "image/png": "[encoded data removed]",
      "text/plain": [
       "<Figure size 432x288 with 1 Axes>"
      ]
     },
     "metadata": {
      "needs_background": "light"
     },
     "output_type": "display_data"
    }
   ],
   "source": [
    "df.PROB_TOTAL.hist()"
   ]
  },
  {
   "cell_type": "code",
   "execution_count": 41,
   "metadata": {},
   "outputs": [
    {
     "data": {
      "text/html": [
       "<div>\n",
       "<style scoped>\n",
       "    .dataframe tbody tr th:only-of-type {\n",
       "        vertical-align: middle;\n",
       "    }\n",
       "\n",
       "    .dataframe tbody tr th {\n",
       "        vertical-align: top;\n",
       "    }\n",
       "\n",
       "    .dataframe thead th {\n",
       "        text-align: right;\n",
       "    }\n",
       "</style>\n",
       "<table border=\"1\" class=\"dataframe\">\n",
       "  <thead>\n",
       "    <tr style=\"text-align: right;\">\n",
       "      <th></th>\n",
       "      <th>NUM BEN</th>\n",
       "      <th>BENEFICIARIO</th>\n",
       "      <th>RFC</th>\n",
       "      <th>FACTURA</th>\n",
       "      <th>CONTRATO</th>\n",
       "      <th>CONCEPTO</th>\n",
       "      <th>TIPO</th>\n",
       "      <th># OP</th>\n",
       "      <th>FECHA</th>\n",
       "      <th>IMPORTE</th>\n",
       "      <th>SHEET</th>\n",
       "      <th>DIA</th>\n",
       "      <th>MES</th>\n",
       "      <th>YEAR</th>\n",
       "      <th>BENEFICIARIO_SALES</th>\n",
       "      <th>IMPORTE_GASTO_PROMEDIO</th>\n",
       "      <th>HAS_LINKEDIN_SITE</th>\n",
       "      <th>CLUSTER_NAME</th>\n",
       "      <th>PROB_TOTAL</th>\n",
       "    </tr>\n",
       "  </thead>\n",
       "  <tbody>\n",
       "    <tr>\n",
       "      <th>283</th>\n",
       "      <td>116684</td>\n",
       "      <td>INDUSTRIAS SOLA BASIC, S.A. DE C.V.</td>\n",
       "      <td>ISB840628IB2</td>\n",
       "      <td>GS106845-158003-5868</td>\n",
       "      <td>SSP-189-2017</td>\n",
       "      <td>MANTENIMIENTO PREVENTIVO Y CORRECTIVO DE LOS T...</td>\n",
       "      <td>TR</td>\n",
       "      <td>604000051.0</td>\n",
       "      <td>2020-12-30</td>\n",
       "      <td>9000000.00</td>\n",
       "      <td>GASTOS_VARIOS</td>\n",
       "      <td>30</td>\n",
       "      <td>12</td>\n",
       "      <td>2020</td>\n",
       "      <td>2</td>\n",
       "      <td>881659.731797</td>\n",
       "      <td>True</td>\n",
       "      <td>2</td>\n",
       "      <td>0.963661</td>\n",
       "    </tr>\n",
       "    <tr>\n",
       "      <th>353</th>\n",
       "      <td>126224</td>\n",
       "      <td>BANCO MULTIVA, SA. G.F.M.</td>\n",
       "      <td>BMI061005NY5</td>\n",
       "      <td>FS-23-2020-158004-1712</td>\n",
       "      <td>NO APLICA</td>\n",
       "      <td>FONDO SAPS 23-2020</td>\n",
       "      <td>TR</td>\n",
       "      <td>1019137.0</td>\n",
       "      <td>2020-12-11</td>\n",
       "      <td>9071255.84</td>\n",
       "      <td>GASTOS_VARIOS</td>\n",
       "      <td>11</td>\n",
       "      <td>12</td>\n",
       "      <td>2020</td>\n",
       "      <td>2</td>\n",
       "      <td>881659.731797</td>\n",
       "      <td>True</td>\n",
       "      <td>0</td>\n",
       "      <td>0.964862</td>\n",
       "    </tr>\n",
       "    <tr>\n",
       "      <th>354</th>\n",
       "      <td>126224</td>\n",
       "      <td>BANCO MULTIVA, SA. G.F.M.</td>\n",
       "      <td>BMI061005NY5</td>\n",
       "      <td>FS-24-2020-158004-1751</td>\n",
       "      <td>NO APLICA</td>\n",
       "      <td>FONDO SAPS 24-2020</td>\n",
       "      <td>TR</td>\n",
       "      <td>1019152.0</td>\n",
       "      <td>2020-12-18</td>\n",
       "      <td>9078244.84</td>\n",
       "      <td>GASTOS_VARIOS</td>\n",
       "      <td>18</td>\n",
       "      <td>12</td>\n",
       "      <td>2020</td>\n",
       "      <td>2</td>\n",
       "      <td>881659.731797</td>\n",
       "      <td>True</td>\n",
       "      <td>0</td>\n",
       "      <td>0.964978</td>\n",
       "    </tr>\n",
       "    <tr>\n",
       "      <th>357</th>\n",
       "      <td>126671</td>\n",
       "      <td>BANCO BANCREA,S.A. ,FIDEICOMISO NUMERO BP417</td>\n",
       "      <td>BBA130722BR7</td>\n",
       "      <td>144-153001-167</td>\n",
       "      <td>NO APLICA</td>\n",
       "      <td>APORTACIÓN MUNICIPAL AL FIDEICOMISO LA GRAN CI...</td>\n",
       "      <td>TR</td>\n",
       "      <td>1019122.0</td>\n",
       "      <td>2020-12-11</td>\n",
       "      <td>30000000.00</td>\n",
       "      <td>GASTOS_VARIOS</td>\n",
       "      <td>11</td>\n",
       "      <td>12</td>\n",
       "      <td>2020</td>\n",
       "      <td>1</td>\n",
       "      <td>881659.731797</td>\n",
       "      <td>False</td>\n",
       "      <td>0</td>\n",
       "      <td>1.000000</td>\n",
       "    </tr>\n",
       "    <tr>\n",
       "      <th>367</th>\n",
       "      <td>206894</td>\n",
       "      <td>MUNICIPIO DE LA CIUDAD DE MONTERREY</td>\n",
       "      <td>MCM610101PT2</td>\n",
       "      <td>2020-23-A-158004-1734</td>\n",
       "      <td>NO APLICA</td>\n",
       "      <td>PAGO DE NÓMINA PERIODO: 23-2020, BANCO: BANCA ...</td>\n",
       "      <td>TR</td>\n",
       "      <td>11000196.0</td>\n",
       "      <td>2020-12-17</td>\n",
       "      <td>73864368.92</td>\n",
       "      <td>GASTOS_VARIOS</td>\n",
       "      <td>17</td>\n",
       "      <td>12</td>\n",
       "      <td>2020</td>\n",
       "      <td>16</td>\n",
       "      <td>881659.731797</td>\n",
       "      <td>True</td>\n",
       "      <td>0</td>\n",
       "      <td>1.000000</td>\n",
       "    </tr>\n",
       "  </tbody>\n",
       "</table>\n",
       "</div>"
      ],
      "text/plain": [
       "     NUM BEN                                  BENEFICIARIO           RFC  \\\n",
       "283   116684           INDUSTRIAS SOLA BASIC, S.A. DE C.V.  ISB840628IB2   \n",
       "353   126224                     BANCO MULTIVA, SA. G.F.M.  BMI061005NY5   \n",
       "354   126224                     BANCO MULTIVA, SA. G.F.M.  BMI061005NY5   \n",
       "357   126671  BANCO BANCREA,S.A. ,FIDEICOMISO NUMERO BP417  BBA130722BR7   \n",
       "367   206894           MUNICIPIO DE LA CIUDAD DE MONTERREY  MCM610101PT2   \n",
       "\n",
       "                    FACTURA      CONTRATO  \\\n",
       "283    GS106845-158003-5868  SSP-189-2017   \n",
       "353  FS-23-2020-158004-1712     NO APLICA   \n",
       "354  FS-24-2020-158004-1751     NO APLICA   \n",
       "357          144-153001-167     NO APLICA   \n",
       "367   2020-23-A-158004-1734     NO APLICA   \n",
       "\n",
       "                                              CONCEPTO TIPO         # OP  \\\n",
       "283  MANTENIMIENTO PREVENTIVO Y CORRECTIVO DE LOS T...   TR  604000051.0   \n",
       "353                                 FONDO SAPS 23-2020   TR    1019137.0   \n",
       "354                                 FONDO SAPS 24-2020   TR    1019152.0   \n",
       "357  APORTACIÓN MUNICIPAL AL FIDEICOMISO LA GRAN CI...   TR    1019122.0   \n",
       "367  PAGO DE NÓMINA PERIODO: 23-2020, BANCO: BANCA ...   TR   11000196.0   \n",
       "\n",
       "          FECHA      IMPORTE          SHEET  DIA  MES  YEAR  \\\n",
       "283  2020-12-30   9000000.00  GASTOS_VARIOS   30   12  2020   \n",
       "353  2020-12-11   9071255.84  GASTOS_VARIOS   11   12  2020   \n",
       "354  2020-12-18   9078244.84  GASTOS_VARIOS   18   12  2020   \n",
       "357  2020-12-11  30000000.00  GASTOS_VARIOS   11   12  2020   \n",
       "367  2020-12-17  73864368.92  GASTOS_VARIOS   17   12  2020   \n",
       "\n",
       "     BENEFICIARIO_SALES  IMPORTE_GASTO_PROMEDIO  HAS_LINKEDIN_SITE  \\\n",
       "283                   2           881659.731797               True   \n",
       "353                   2           881659.731797               True   \n",
       "354                   2           881659.731797               True   \n",
       "357                   1           881659.731797              False   \n",
       "367                  16           881659.731797               True   \n",
       "\n",
       "     CLUSTER_NAME  PROB_TOTAL  \n",
       "283             2    0.963661  \n",
       "353             0    0.964862  \n",
       "354             0    0.964978  \n",
       "357             0    1.000000  \n",
       "367             0    1.000000  "
      ]
     },
     "execution_count": 41,
     "metadata": {},
     "output_type": "execute_result"
    }
   ],
   "source": [
    "df[df['PROB_TOTAL'] > 0.95].head()"
   ]
  },
  {
   "cell_type": "code",
   "execution_count": 43,
   "metadata": {},
   "outputs": [],
   "source": [
    "models_sheet = {}\n",
    "for sheet in list(df['SHEET'].unique()):\n",
    "    sheet_compras = df[df['SHEET'] == sheet]\n",
    "    params = norm.fit(sheet_compras['IMPORTE'])\n",
    "    models_sheet[sheet] = norm(params[0], params[1])"
   ]
  },
  {
   "cell_type": "code",
   "execution_count": 47,
   "metadata": {},
   "outputs": [],
   "source": [
    "sheet_prob = []\n",
    "for i, row in df.iterrows():\n",
    "    sheet_prob.append(models_sheet[row['SHEET']].cdf(row[\"IMPORTE\"]))\n",
    "df[\"PROB_SHEET\"] = sheet_prob"
   ]
  },
  {
   "cell_type": "code",
   "execution_count": 48,
   "metadata": {},
   "outputs": [
    {
     "data": {
      "text/plain": [
       "<matplotlib.axes._subplots.AxesSubplot at 0x7f1503fff8d0>"
      ]
     },
     "execution_count": 48,
     "metadata": {},
     "output_type": "execute_result"
    },
    {
     "data": {
      "image/png": "[encoded data removed]",
      "text/plain": [
       "<Figure size 432x288 with 1 Axes>"
      ]
     },
     "metadata": {
      "needs_background": "light"
     },
     "output_type": "display_data"
    }
   ],
   "source": [
    "df[\"PROB_SHEET\"].hist()"
   ]
  },
  {
   "cell_type": "code",
   "execution_count": null,
   "metadata": {},
   "outputs": [],
   "source": []
  }
 ],
 "metadata": {
  "kernelspec": {
   "display_name": "Python 3.7.6 64-bit ('base': conda)",
   "language": "python",
   "name": "python376jvsc74a57bd0b142074697b7d0e7ae9d39d1a5c32e0a297deddd297acd1f58c3ca0c4615ce63"
  },
  "language_info": {
   "codemirror_mode": {
    "name": "ipython",
    "version": 3
   },
   "file_extension": ".py",
   "mimetype": "text/x-python",
   "name": "python",
   "nbconvert_exporter": "python",
   "pygments_lexer": "ipython3",
   "version": "3.7.6"
  }
 },
 "nbformat": 4,
 "nbformat_minor": 4
}
