{
 "cells": [
  {
   "cell_type": "code",
   "execution_count": 1,
   "metadata": {},
   "outputs": [],
   "source": [
    "import pandas as pd\n",
    "import os\n",
    "data_path = \"/home/darian/projects/Data_science_projects/data/data.xlsx\""
   ]
  },
  {
   "cell_type": "code",
   "execution_count": 2,
   "metadata": {},
   "outputs": [],
   "source": [
    "os.chdir(\"..\")"
   ]
  },
  {
   "cell_type": "code",
   "execution_count": 3,
   "metadata": {},
   "outputs": [
    {
     "name": "stdout",
     "output_type": "stream",
     "text": [
      "data  notebooks  requirements.txt\r\n"
     ]
    }
   ],
   "source": [
    "!ls"
   ]
  },
  {
   "cell_type": "code",
   "execution_count": 11,
   "metadata": {},
   "outputs": [],
   "source": [
    "def create_df(sheet_name, data_path = data_path, rows = 5):\n",
    "    df = pd.read_excel(data_path, sheet_name = sheet_name, skiprows = rows)\n",
    "    string = sheet_name.replace(\" \", \"_\")\n",
    "    df[\"SHEET\"] = string\n",
    "    return df"
   ]
  },
  {
   "cell_type": "code",
   "execution_count": 14,
   "metadata": {},
   "outputs": [],
   "source": [
    "df_gastos_varios = create_df(\"GASTOS VARIOS\")\n",
    "df_contratistas = create_df('CONTRATISTAS Y FDO FED')\n",
    "df_servivios = create_df('SERV PPROF')\n",
    "df_comunicacion = create_df('COMUNICACION')\n",
    "df_personales = create_df(\"SERV. PERS.\")"
   ]
  },
  {
   "cell_type": "code",
   "execution_count": 15,
   "metadata": {},
   "outputs": [],
   "source": [
    "df = pd.concat([df_gastos_varios, df_contratistas, df_servivios, df_comunicacion, df_personales])"
   ]
  },
  {
   "cell_type": "code",
   "execution_count": 17,
   "metadata": {},
   "outputs": [
    {
     "data": {
      "text/plain": [
       "1774"
      ]
     },
     "execution_count": 17,
     "metadata": {},
     "output_type": "execute_result"
    }
   ],
   "source": [
    "len(df)"
   ]
  },
  {
   "cell_type": "code",
   "execution_count": 18,
   "metadata": {},
   "outputs": [],
   "source": [
    "df = df.dropna(how = 'any')"
   ]
  },
  {
   "cell_type": "code",
   "execution_count": 19,
   "metadata": {},
   "outputs": [
    {
     "data": {
      "text/plain": [
       "1540"
      ]
     },
     "execution_count": 19,
     "metadata": {},
     "output_type": "execute_result"
    }
   ],
   "source": [
    "len(df)"
   ]
  },
  {
   "cell_type": "code",
   "execution_count": 20,
   "metadata": {},
   "outputs": [
    {
     "data": {
      "text/plain": [
       "NUM BEN                 object\n",
       "BENEFICIARIO            object\n",
       "RFC                     object\n",
       "FACTURA                 object\n",
       "CONTRATO                object\n",
       "CONCEPTO                object\n",
       "TIPO                    object\n",
       "# OP                   float64\n",
       "FECHA           datetime64[ns]\n",
       "IMPORTE                float64\n",
       "SHEET                   object\n",
       "dtype: object"
      ]
     },
     "execution_count": 20,
     "metadata": {},
     "output_type": "execute_result"
    }
   ],
   "source": [
    "df.dtypes"
   ]
  },
  {
   "cell_type": "code",
   "execution_count": 21,
   "metadata": {},
   "outputs": [
    {
     "data": {
      "text/plain": [
       "12    1540\n",
       "Name: FECHA, dtype: int64"
      ]
     },
     "execution_count": 21,
     "metadata": {},
     "output_type": "execute_result"
    }
   ],
   "source": [
    "df['FECHA'].apply(lambda x: x.month).value_counts()"
   ]
  },
  {
   "cell_type": "code",
   "execution_count": 22,
   "metadata": {},
   "outputs": [
    {
     "data": {
      "text/html": [
       "<div>\n",
       "<style scoped>\n",
       "    .dataframe tbody tr th:only-of-type {\n",
       "        vertical-align: middle;\n",
       "    }\n",
       "\n",
       "    .dataframe tbody tr th {\n",
       "        vertical-align: top;\n",
       "    }\n",
       "\n",
       "    .dataframe thead th {\n",
       "        text-align: right;\n",
       "    }\n",
       "</style>\n",
       "<table border=\"1\" class=\"dataframe\">\n",
       "  <thead>\n",
       "    <tr style=\"text-align: right;\">\n",
       "      <th></th>\n",
       "      <th>NUM BEN</th>\n",
       "      <th>BENEFICIARIO</th>\n",
       "      <th>RFC</th>\n",
       "      <th>FACTURA</th>\n",
       "      <th>CONTRATO</th>\n",
       "      <th>CONCEPTO</th>\n",
       "      <th>TIPO</th>\n",
       "      <th># OP</th>\n",
       "      <th>FECHA</th>\n",
       "      <th>IMPORTE</th>\n",
       "      <th>SHEET</th>\n",
       "    </tr>\n",
       "  </thead>\n",
       "  <tbody>\n",
       "    <tr>\n",
       "      <th>0</th>\n",
       "      <td>110152</td>\n",
       "      <td>LLANTAS Y SERVICIOS SERNA ANAHUAC,S.A. DE C.V.</td>\n",
       "      <td>LSS841015DV3</td>\n",
       "      <td>LLS AF8458-158008-3972</td>\n",
       "      <td>OT. 20204373</td>\n",
       "      <td>REEMPLAZO E INSTALACION DE AMORTIGUADORES (DEL...</td>\n",
       "      <td>TR</td>\n",
       "      <td>1019110.0</td>\n",
       "      <td>2020-12-11</td>\n",
       "      <td>14911.80</td>\n",
       "      <td>GASTOS_VARIOS</td>\n",
       "    </tr>\n",
       "    <tr>\n",
       "      <th>1</th>\n",
       "      <td>110152</td>\n",
       "      <td>LLANTAS Y SERVICIOS SERNA ANAHUAC,S.A. DE C.V.</td>\n",
       "      <td>LSS841015DV3</td>\n",
       "      <td>LLS PF6916-158008-4041</td>\n",
       "      <td>OT. 20204425</td>\n",
       "      <td>REEMPLAZO E INSTALACION DE OCHO BIRLOS Y NUEVE...</td>\n",
       "      <td>TR</td>\n",
       "      <td>1019110.0</td>\n",
       "      <td>2020-12-11</td>\n",
       "      <td>2528.80</td>\n",
       "      <td>GASTOS_VARIOS</td>\n",
       "    </tr>\n",
       "    <tr>\n",
       "      <th>2</th>\n",
       "      <td>110152</td>\n",
       "      <td>LLANTAS Y SERVICIOS SERNA ANAHUAC,S.A. DE C.V.</td>\n",
       "      <td>LSS841015DV3</td>\n",
       "      <td>LLS PF6917-158008-3975</td>\n",
       "      <td>OT. 20204376</td>\n",
       "      <td>REEMPLAZO DE DOS RINES  (17). PATRIMONIO 80383...</td>\n",
       "      <td>TR</td>\n",
       "      <td>1019110.0</td>\n",
       "      <td>2020-12-11</td>\n",
       "      <td>8500.02</td>\n",
       "      <td>GASTOS_VARIOS</td>\n",
       "    </tr>\n",
       "    <tr>\n",
       "      <th>3</th>\n",
       "      <td>110152</td>\n",
       "      <td>LLANTAS Y SERVICIOS SERNA ANAHUAC,S.A. DE C.V.</td>\n",
       "      <td>LSS841015DV3</td>\n",
       "      <td>LLS PF7004-158008-3971</td>\n",
       "      <td>OT. 20204374</td>\n",
       "      <td>REEMPLAZO DE  DOS RINES  (14). PATRIMONIO 8007...</td>\n",
       "      <td>TR</td>\n",
       "      <td>1019110.0</td>\n",
       "      <td>2020-12-11</td>\n",
       "      <td>2400.01</td>\n",
       "      <td>GASTOS_VARIOS</td>\n",
       "    </tr>\n",
       "    <tr>\n",
       "      <th>4</th>\n",
       "      <td>110152</td>\n",
       "      <td>LLANTAS Y SERVICIOS SERNA ANAHUAC,S.A. DE C.V.</td>\n",
       "      <td>LSS841015DV3</td>\n",
       "      <td>LLS PF7137-158008-4554</td>\n",
       "      <td>OT. 20205130</td>\n",
       "      <td>REEMPLAZO E INSTALACION DE RIN 14. PATRIMONIO ...</td>\n",
       "      <td>TR</td>\n",
       "      <td>299001496.0</td>\n",
       "      <td>2020-12-23</td>\n",
       "      <td>1537.00</td>\n",
       "      <td>GASTOS_VARIOS</td>\n",
       "    </tr>\n",
       "  </tbody>\n",
       "</table>\n",
       "</div>"
      ],
      "text/plain": [
       "  NUM BEN                                    BENEFICIARIO           RFC  \\\n",
       "0  110152  LLANTAS Y SERVICIOS SERNA ANAHUAC,S.A. DE C.V.  LSS841015DV3   \n",
       "1  110152  LLANTAS Y SERVICIOS SERNA ANAHUAC,S.A. DE C.V.  LSS841015DV3   \n",
       "2  110152  LLANTAS Y SERVICIOS SERNA ANAHUAC,S.A. DE C.V.  LSS841015DV3   \n",
       "3  110152  LLANTAS Y SERVICIOS SERNA ANAHUAC,S.A. DE C.V.  LSS841015DV3   \n",
       "4  110152  LLANTAS Y SERVICIOS SERNA ANAHUAC,S.A. DE C.V.  LSS841015DV3   \n",
       "\n",
       "                  FACTURA      CONTRATO  \\\n",
       "0  LLS AF8458-158008-3972  OT. 20204373   \n",
       "1  LLS PF6916-158008-4041  OT. 20204425   \n",
       "2  LLS PF6917-158008-3975  OT. 20204376   \n",
       "3  LLS PF7004-158008-3971  OT. 20204374   \n",
       "4  LLS PF7137-158008-4554  OT. 20205130   \n",
       "\n",
       "                                            CONCEPTO TIPO         # OP  \\\n",
       "0  REEMPLAZO E INSTALACION DE AMORTIGUADORES (DEL...   TR    1019110.0   \n",
       "1  REEMPLAZO E INSTALACION DE OCHO BIRLOS Y NUEVE...   TR    1019110.0   \n",
       "2  REEMPLAZO DE DOS RINES  (17). PATRIMONIO 80383...   TR    1019110.0   \n",
       "3  REEMPLAZO DE  DOS RINES  (14). PATRIMONIO 8007...   TR    1019110.0   \n",
       "4  REEMPLAZO E INSTALACION DE RIN 14. PATRIMONIO ...   TR  299001496.0   \n",
       "\n",
       "       FECHA   IMPORTE          SHEET  \n",
       "0 2020-12-11  14911.80  GASTOS_VARIOS  \n",
       "1 2020-12-11   2528.80  GASTOS_VARIOS  \n",
       "2 2020-12-11   8500.02  GASTOS_VARIOS  \n",
       "3 2020-12-11   2400.01  GASTOS_VARIOS  \n",
       "4 2020-12-23   1537.00  GASTOS_VARIOS  "
      ]
     },
     "execution_count": 22,
     "metadata": {},
     "output_type": "execute_result"
    }
   ],
   "source": [
    "df.head()"
   ]
  },
  {
   "cell_type": "code",
   "execution_count": 24,
   "metadata": {},
   "outputs": [],
   "source": [
    "df.to_csv(\"notebooks/data/clean_compras.csv\", index = False)"
   ]
  },
  {
   "cell_type": "code",
   "execution_count": null,
   "metadata": {},
   "outputs": [],
   "source": []
  }
 ],
 "metadata": {
  "kernelspec": {
   "display_name": "Python 3 (ipykernel)",
   "language": "python",
   "name": "python3"
  },
  "language_info": {
   "codemirror_mode": {
    "name": "ipython",
    "version": 3
   },
   "file_extension": ".py",
   "mimetype": "text/x-python",
   "name": "python",
   "nbconvert_exporter": "python",
   "pygments_lexer": "ipython3",
   "version": "3.7.6"
  }
 },
 "nbformat": 4,
 "nbformat_minor": 4
}
